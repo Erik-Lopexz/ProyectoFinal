{
 "cells": [
  {
   "cell_type": "markdown",
   "id": "e5e54c5a",
   "metadata": {},
   "source": [
    " # My Jupyter Notebook on IBM Watson Studio"
   ]
  },
  {
   "cell_type": "markdown",
   "id": "5e33c659",
   "metadata": {},
   "source": [
    "**Erik Duban Lopez Murcia**\n",
    "\n",
    "Analista de talento humano y deseo convertirme en un gran cientifico de datos"
   ]
  },
  {
   "cell_type": "markdown",
   "id": "f8970b8e",
   "metadata": {},
   "source": [
    "*Estoy interesado en la ciencia de datos porque considero que es un gran campo laboral para poder crecer profesionalmente.\n",
    "ademas de aprender cada día más sobre los procesos tecnologicos de vanguardia a nivel mudial y apreder a desarrollar aplicaciones y crear codigo para soluciones empresariales*"
   ]
  },
  {
   "cell_type": "markdown",
   "id": "f008c20b",
   "metadata": {},
   "source": [
    "### El siguiente codigo ejecuta una operacion aritmetica en la cual el primer numero ingresado divide al segundo "
   ]
  },
  {
   "cell_type": "code",
   "execution_count": 2,
   "id": "0f035353",
   "metadata": {},
   "outputs": [
    {
     "data": {
      "text/plain": [
       "8.333333333333334"
      ]
     },
     "execution_count": 2,
     "metadata": {},
     "output_type": "execute_result"
    }
   ],
   "source": [
    "50 / 6"
   ]
  },
  {
   "cell_type": "markdown",
   "id": "513aa877",
   "metadata": {},
   "source": [
    "|nombre|edad|valor|\n",
    "|-----|----|----|\n",
    "|erik|30|1252|\n",
    "|juna|25|12552|\n",
    "|carlos|52|2211|"
   ]
  },
  {
   "cell_type": "markdown",
   "id": "b0b5e214",
   "metadata": {},
   "source": [
    "1. Ciencia de datos\n",
    "\n",
    "    1.1 Herramientas\n",
    "    \n",
    "    1.2 Lenguajes de programacion\n",
    "    \n",
    "    1.3 Entornos\n",
    "    \n",
    "2. Origenes de la ciencia de datos\n",
    "\n",
    "3. Historia de la ciencia de datos"
   ]
  },
  {
   "cell_type": "markdown",
   "id": "69d32eb8",
   "metadata": {},
   "source": [
    "principio...\n",
    "\n",
    "---\n",
    "\n",
    "Ciencia de datos\n",
    "\n",
    "***\n",
    "\n",
    "lenguajes de programación\n",
    "\n",
    "___\n",
    "\n",
    "Concluciones"
   ]
  }
 ],
 "metadata": {
  "kernelspec": {
   "display_name": "Python 3 (ipykernel)",
   "language": "python",
   "name": "python3"
  },
  "language_info": {
   "codemirror_mode": {
    "name": "ipython",
    "version": 3
   },
   "file_extension": ".py",
   "mimetype": "text/x-python",
   "name": "python",
   "nbconvert_exporter": "python",
   "pygments_lexer": "ipython3",
   "version": "3.9.13"
  }
 },
 "nbformat": 4,
 "nbformat_minor": 5
}
